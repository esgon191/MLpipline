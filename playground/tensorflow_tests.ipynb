{
 "cells": [
  {
   "cell_type": "code",
   "execution_count": 2,
   "metadata": {},
   "outputs": [],
   "source": [
    "import requests\n",
    "import numpy as np\n",
    "import json\n",
    "import os\n"
   ]
  },
  {
   "cell_type": "code",
   "execution_count": 33,
   "metadata": {},
   "outputs": [
    {
     "name": "stdout",
     "output_type": "stream",
     "text": [
      "502\n",
      "\n"
     ]
    },
    {
     "ename": "JSONDecodeError",
     "evalue": "Expecting value: line 1 column 1 (char 0)",
     "output_type": "error",
     "traceback": [
      "\u001b[0;31m---------------------------------------------------------------------------\u001b[0m",
      "\u001b[0;31mJSONDecodeError\u001b[0m                           Traceback (most recent call last)",
      "File \u001b[0;32m/opt/homebrew/lib/python3.11/site-packages/requests/models.py:974\u001b[0m, in \u001b[0;36mResponse.json\u001b[0;34m(self, **kwargs)\u001b[0m\n\u001b[1;32m    973\u001b[0m \u001b[38;5;28;01mtry\u001b[39;00m:\n\u001b[0;32m--> 974\u001b[0m     \u001b[38;5;28;01mreturn\u001b[39;00m \u001b[43mcomplexjson\u001b[49m\u001b[38;5;241;43m.\u001b[39;49m\u001b[43mloads\u001b[49m\u001b[43m(\u001b[49m\u001b[38;5;28;43mself\u001b[39;49m\u001b[38;5;241;43m.\u001b[39;49m\u001b[43mtext\u001b[49m\u001b[43m,\u001b[49m\u001b[43m \u001b[49m\u001b[38;5;241;43m*\u001b[39;49m\u001b[38;5;241;43m*\u001b[39;49m\u001b[43mkwargs\u001b[49m\u001b[43m)\u001b[49m\n\u001b[1;32m    975\u001b[0m \u001b[38;5;28;01mexcept\u001b[39;00m JSONDecodeError \u001b[38;5;28;01mas\u001b[39;00m e:\n\u001b[1;32m    976\u001b[0m     \u001b[38;5;66;03m# Catch JSON-related errors and raise as requests.JSONDecodeError\u001b[39;00m\n\u001b[1;32m    977\u001b[0m     \u001b[38;5;66;03m# This aliases json.JSONDecodeError and simplejson.JSONDecodeError\u001b[39;00m\n",
      "File \u001b[0;32m/opt/homebrew/Cellar/python@3.11/3.11.10/Frameworks/Python.framework/Versions/3.11/lib/python3.11/json/__init__.py:346\u001b[0m, in \u001b[0;36mloads\u001b[0;34m(s, cls, object_hook, parse_float, parse_int, parse_constant, object_pairs_hook, **kw)\u001b[0m\n\u001b[1;32m    343\u001b[0m \u001b[38;5;28;01mif\u001b[39;00m (\u001b[38;5;28mcls\u001b[39m \u001b[38;5;129;01mis\u001b[39;00m \u001b[38;5;28;01mNone\u001b[39;00m \u001b[38;5;129;01mand\u001b[39;00m object_hook \u001b[38;5;129;01mis\u001b[39;00m \u001b[38;5;28;01mNone\u001b[39;00m \u001b[38;5;129;01mand\u001b[39;00m\n\u001b[1;32m    344\u001b[0m         parse_int \u001b[38;5;129;01mis\u001b[39;00m \u001b[38;5;28;01mNone\u001b[39;00m \u001b[38;5;129;01mand\u001b[39;00m parse_float \u001b[38;5;129;01mis\u001b[39;00m \u001b[38;5;28;01mNone\u001b[39;00m \u001b[38;5;129;01mand\u001b[39;00m\n\u001b[1;32m    345\u001b[0m         parse_constant \u001b[38;5;129;01mis\u001b[39;00m \u001b[38;5;28;01mNone\u001b[39;00m \u001b[38;5;129;01mand\u001b[39;00m object_pairs_hook \u001b[38;5;129;01mis\u001b[39;00m \u001b[38;5;28;01mNone\u001b[39;00m \u001b[38;5;129;01mand\u001b[39;00m \u001b[38;5;129;01mnot\u001b[39;00m kw):\n\u001b[0;32m--> 346\u001b[0m     \u001b[38;5;28;01mreturn\u001b[39;00m \u001b[43m_default_decoder\u001b[49m\u001b[38;5;241;43m.\u001b[39;49m\u001b[43mdecode\u001b[49m\u001b[43m(\u001b[49m\u001b[43ms\u001b[49m\u001b[43m)\u001b[49m\n\u001b[1;32m    347\u001b[0m \u001b[38;5;28;01mif\u001b[39;00m \u001b[38;5;28mcls\u001b[39m \u001b[38;5;129;01mis\u001b[39;00m \u001b[38;5;28;01mNone\u001b[39;00m:\n",
      "File \u001b[0;32m/opt/homebrew/Cellar/python@3.11/3.11.10/Frameworks/Python.framework/Versions/3.11/lib/python3.11/json/decoder.py:337\u001b[0m, in \u001b[0;36mJSONDecoder.decode\u001b[0;34m(self, s, _w)\u001b[0m\n\u001b[1;32m    333\u001b[0m \u001b[38;5;250m\u001b[39m\u001b[38;5;124;03m\"\"\"Return the Python representation of ``s`` (a ``str`` instance\u001b[39;00m\n\u001b[1;32m    334\u001b[0m \u001b[38;5;124;03mcontaining a JSON document).\u001b[39;00m\n\u001b[1;32m    335\u001b[0m \n\u001b[1;32m    336\u001b[0m \u001b[38;5;124;03m\"\"\"\u001b[39;00m\n\u001b[0;32m--> 337\u001b[0m obj, end \u001b[38;5;241m=\u001b[39m \u001b[38;5;28;43mself\u001b[39;49m\u001b[38;5;241;43m.\u001b[39;49m\u001b[43mraw_decode\u001b[49m\u001b[43m(\u001b[49m\u001b[43ms\u001b[49m\u001b[43m,\u001b[49m\u001b[43m \u001b[49m\u001b[43midx\u001b[49m\u001b[38;5;241;43m=\u001b[39;49m\u001b[43m_w\u001b[49m\u001b[43m(\u001b[49m\u001b[43ms\u001b[49m\u001b[43m,\u001b[49m\u001b[43m \u001b[49m\u001b[38;5;241;43m0\u001b[39;49m\u001b[43m)\u001b[49m\u001b[38;5;241;43m.\u001b[39;49m\u001b[43mend\u001b[49m\u001b[43m(\u001b[49m\u001b[43m)\u001b[49m\u001b[43m)\u001b[49m\n\u001b[1;32m    338\u001b[0m end \u001b[38;5;241m=\u001b[39m _w(s, end)\u001b[38;5;241m.\u001b[39mend()\n",
      "File \u001b[0;32m/opt/homebrew/Cellar/python@3.11/3.11.10/Frameworks/Python.framework/Versions/3.11/lib/python3.11/json/decoder.py:355\u001b[0m, in \u001b[0;36mJSONDecoder.raw_decode\u001b[0;34m(self, s, idx)\u001b[0m\n\u001b[1;32m    354\u001b[0m \u001b[38;5;28;01mexcept\u001b[39;00m \u001b[38;5;167;01mStopIteration\u001b[39;00m \u001b[38;5;28;01mas\u001b[39;00m err:\n\u001b[0;32m--> 355\u001b[0m     \u001b[38;5;28;01mraise\u001b[39;00m JSONDecodeError(\u001b[38;5;124m\"\u001b[39m\u001b[38;5;124mExpecting value\u001b[39m\u001b[38;5;124m\"\u001b[39m, s, err\u001b[38;5;241m.\u001b[39mvalue) \u001b[38;5;28;01mfrom\u001b[39;00m \u001b[38;5;28;01mNone\u001b[39;00m\n\u001b[1;32m    356\u001b[0m \u001b[38;5;28;01mreturn\u001b[39;00m obj, end\n",
      "\u001b[0;31mJSONDecodeError\u001b[0m: Expecting value: line 1 column 1 (char 0)",
      "\nDuring handling of the above exception, another exception occurred:\n",
      "\u001b[0;31mJSONDecodeError\u001b[0m                           Traceback (most recent call last)",
      "Cell \u001b[0;32mIn[33], line 26\u001b[0m\n\u001b[1;32m     23\u001b[0m \u001b[38;5;28mprint\u001b[39m(response\u001b[38;5;241m.\u001b[39mtext)         \u001b[38;5;66;03m# Тело ответа\u001b[39;00m\n\u001b[1;32m     25\u001b[0m \u001b[38;5;66;03m# Вывод результата\u001b[39;00m\n\u001b[0;32m---> 26\u001b[0m \u001b[38;5;28mprint\u001b[39m(\u001b[43mresponse\u001b[49m\u001b[38;5;241;43m.\u001b[39;49m\u001b[43mjson\u001b[49m\u001b[43m(\u001b[49m\u001b[43m)\u001b[49m)\n",
      "File \u001b[0;32m/opt/homebrew/lib/python3.11/site-packages/requests/models.py:978\u001b[0m, in \u001b[0;36mResponse.json\u001b[0;34m(self, **kwargs)\u001b[0m\n\u001b[1;32m    974\u001b[0m     \u001b[38;5;28;01mreturn\u001b[39;00m complexjson\u001b[38;5;241m.\u001b[39mloads(\u001b[38;5;28mself\u001b[39m\u001b[38;5;241m.\u001b[39mtext, \u001b[38;5;241m*\u001b[39m\u001b[38;5;241m*\u001b[39mkwargs)\n\u001b[1;32m    975\u001b[0m \u001b[38;5;28;01mexcept\u001b[39;00m JSONDecodeError \u001b[38;5;28;01mas\u001b[39;00m e:\n\u001b[1;32m    976\u001b[0m     \u001b[38;5;66;03m# Catch JSON-related errors and raise as requests.JSONDecodeError\u001b[39;00m\n\u001b[1;32m    977\u001b[0m     \u001b[38;5;66;03m# This aliases json.JSONDecodeError and simplejson.JSONDecodeError\u001b[39;00m\n\u001b[0;32m--> 978\u001b[0m     \u001b[38;5;28;01mraise\u001b[39;00m RequestsJSONDecodeError(e\u001b[38;5;241m.\u001b[39mmsg, e\u001b[38;5;241m.\u001b[39mdoc, e\u001b[38;5;241m.\u001b[39mpos)\n",
      "\u001b[0;31mJSONDecodeError\u001b[0m: Expecting value: line 1 column 1 (char 0)"
     ]
    }
   ],
   "source": [
    "\n",
    "# Подготовка URL и заголовков\n",
    "url = \"http://localhost:8501/v1/models/lighttestmodel:predict\"\n",
    "headers = {\"Content-Type\": \"application/json\"}\n",
    "\n",
    "# Пример изображения: массив uint8 с размером (1, height, width, 3)\n",
    "# Замените на реальное изображение, закодированное в uint8\n",
    "height, width = 300, 300\n",
    "image_data = np.random.randint(0, 255, size=(1, height, width, 3), dtype=np.uint8).tolist()\n",
    "\n",
    "# Формат данных запроса\n",
    "data = {\n",
    "    \"signature_name\": \"serving_default\",\n",
    "    \"instances\": {\"input_tensor\": image_data}\n",
    "}\n",
    "\n",
    "# Отправка POST-запроса\n",
    "response = requests.post(\n",
    "    url, \n",
    "    headers=headers, \n",
    "    data=json.dumps(data)\n",
    "    )\n",
    "print(response.status_code)  # HTTP статус\n",
    "print(response.text)         # Тело ответа\n",
    "\n",
    "# Вывод результата\n",
    "print(response.json())"
   ]
  },
  {
   "cell_type": "code",
   "execution_count": null,
   "metadata": {},
   "outputs": [
    {
     "data": {
      "text/plain": [
       "<Response [502]>"
      ]
     },
     "execution_count": 21,
     "metadata": {},
     "output_type": "execute_result"
    }
   ],
   "source": [
    "requests.post(\n",
    "    url, \n",
    "    {}\n",
    ")"
   ]
  },
  {
   "cell_type": "code",
   "execution_count": 47,
   "metadata": {},
   "outputs": [
    {
     "name": "stdout",
     "output_type": "stream",
     "text": [
      "502\n",
      "\n"
     ]
    },
    {
     "ename": "JSONDecodeError",
     "evalue": "Expecting value: line 1 column 1 (char 0)",
     "output_type": "error",
     "traceback": [
      "\u001b[0;31m---------------------------------------------------------------------------\u001b[0m",
      "\u001b[0;31mJSONDecodeError\u001b[0m                           Traceback (most recent call last)",
      "File \u001b[0;32m/opt/homebrew/lib/python3.11/site-packages/requests/models.py:974\u001b[0m, in \u001b[0;36mResponse.json\u001b[0;34m(self, **kwargs)\u001b[0m\n\u001b[1;32m    973\u001b[0m \u001b[38;5;28;01mtry\u001b[39;00m:\n\u001b[0;32m--> 974\u001b[0m     \u001b[38;5;28;01mreturn\u001b[39;00m \u001b[43mcomplexjson\u001b[49m\u001b[38;5;241;43m.\u001b[39;49m\u001b[43mloads\u001b[49m\u001b[43m(\u001b[49m\u001b[38;5;28;43mself\u001b[39;49m\u001b[38;5;241;43m.\u001b[39;49m\u001b[43mtext\u001b[49m\u001b[43m,\u001b[49m\u001b[43m \u001b[49m\u001b[38;5;241;43m*\u001b[39;49m\u001b[38;5;241;43m*\u001b[39;49m\u001b[43mkwargs\u001b[49m\u001b[43m)\u001b[49m\n\u001b[1;32m    975\u001b[0m \u001b[38;5;28;01mexcept\u001b[39;00m JSONDecodeError \u001b[38;5;28;01mas\u001b[39;00m e:\n\u001b[1;32m    976\u001b[0m     \u001b[38;5;66;03m# Catch JSON-related errors and raise as requests.JSONDecodeError\u001b[39;00m\n\u001b[1;32m    977\u001b[0m     \u001b[38;5;66;03m# This aliases json.JSONDecodeError and simplejson.JSONDecodeError\u001b[39;00m\n",
      "File \u001b[0;32m/opt/homebrew/Cellar/python@3.11/3.11.10/Frameworks/Python.framework/Versions/3.11/lib/python3.11/json/__init__.py:346\u001b[0m, in \u001b[0;36mloads\u001b[0;34m(s, cls, object_hook, parse_float, parse_int, parse_constant, object_pairs_hook, **kw)\u001b[0m\n\u001b[1;32m    343\u001b[0m \u001b[38;5;28;01mif\u001b[39;00m (\u001b[38;5;28mcls\u001b[39m \u001b[38;5;129;01mis\u001b[39;00m \u001b[38;5;28;01mNone\u001b[39;00m \u001b[38;5;129;01mand\u001b[39;00m object_hook \u001b[38;5;129;01mis\u001b[39;00m \u001b[38;5;28;01mNone\u001b[39;00m \u001b[38;5;129;01mand\u001b[39;00m\n\u001b[1;32m    344\u001b[0m         parse_int \u001b[38;5;129;01mis\u001b[39;00m \u001b[38;5;28;01mNone\u001b[39;00m \u001b[38;5;129;01mand\u001b[39;00m parse_float \u001b[38;5;129;01mis\u001b[39;00m \u001b[38;5;28;01mNone\u001b[39;00m \u001b[38;5;129;01mand\u001b[39;00m\n\u001b[1;32m    345\u001b[0m         parse_constant \u001b[38;5;129;01mis\u001b[39;00m \u001b[38;5;28;01mNone\u001b[39;00m \u001b[38;5;129;01mand\u001b[39;00m object_pairs_hook \u001b[38;5;129;01mis\u001b[39;00m \u001b[38;5;28;01mNone\u001b[39;00m \u001b[38;5;129;01mand\u001b[39;00m \u001b[38;5;129;01mnot\u001b[39;00m kw):\n\u001b[0;32m--> 346\u001b[0m     \u001b[38;5;28;01mreturn\u001b[39;00m \u001b[43m_default_decoder\u001b[49m\u001b[38;5;241;43m.\u001b[39;49m\u001b[43mdecode\u001b[49m\u001b[43m(\u001b[49m\u001b[43ms\u001b[49m\u001b[43m)\u001b[49m\n\u001b[1;32m    347\u001b[0m \u001b[38;5;28;01mif\u001b[39;00m \u001b[38;5;28mcls\u001b[39m \u001b[38;5;129;01mis\u001b[39;00m \u001b[38;5;28;01mNone\u001b[39;00m:\n",
      "File \u001b[0;32m/opt/homebrew/Cellar/python@3.11/3.11.10/Frameworks/Python.framework/Versions/3.11/lib/python3.11/json/decoder.py:337\u001b[0m, in \u001b[0;36mJSONDecoder.decode\u001b[0;34m(self, s, _w)\u001b[0m\n\u001b[1;32m    333\u001b[0m \u001b[38;5;250m\u001b[39m\u001b[38;5;124;03m\"\"\"Return the Python representation of ``s`` (a ``str`` instance\u001b[39;00m\n\u001b[1;32m    334\u001b[0m \u001b[38;5;124;03mcontaining a JSON document).\u001b[39;00m\n\u001b[1;32m    335\u001b[0m \n\u001b[1;32m    336\u001b[0m \u001b[38;5;124;03m\"\"\"\u001b[39;00m\n\u001b[0;32m--> 337\u001b[0m obj, end \u001b[38;5;241m=\u001b[39m \u001b[38;5;28;43mself\u001b[39;49m\u001b[38;5;241;43m.\u001b[39;49m\u001b[43mraw_decode\u001b[49m\u001b[43m(\u001b[49m\u001b[43ms\u001b[49m\u001b[43m,\u001b[49m\u001b[43m \u001b[49m\u001b[43midx\u001b[49m\u001b[38;5;241;43m=\u001b[39;49m\u001b[43m_w\u001b[49m\u001b[43m(\u001b[49m\u001b[43ms\u001b[49m\u001b[43m,\u001b[49m\u001b[43m \u001b[49m\u001b[38;5;241;43m0\u001b[39;49m\u001b[43m)\u001b[49m\u001b[38;5;241;43m.\u001b[39;49m\u001b[43mend\u001b[49m\u001b[43m(\u001b[49m\u001b[43m)\u001b[49m\u001b[43m)\u001b[49m\n\u001b[1;32m    338\u001b[0m end \u001b[38;5;241m=\u001b[39m _w(s, end)\u001b[38;5;241m.\u001b[39mend()\n",
      "File \u001b[0;32m/opt/homebrew/Cellar/python@3.11/3.11.10/Frameworks/Python.framework/Versions/3.11/lib/python3.11/json/decoder.py:355\u001b[0m, in \u001b[0;36mJSONDecoder.raw_decode\u001b[0;34m(self, s, idx)\u001b[0m\n\u001b[1;32m    354\u001b[0m \u001b[38;5;28;01mexcept\u001b[39;00m \u001b[38;5;167;01mStopIteration\u001b[39;00m \u001b[38;5;28;01mas\u001b[39;00m err:\n\u001b[0;32m--> 355\u001b[0m     \u001b[38;5;28;01mraise\u001b[39;00m JSONDecodeError(\u001b[38;5;124m\"\u001b[39m\u001b[38;5;124mExpecting value\u001b[39m\u001b[38;5;124m\"\u001b[39m, s, err\u001b[38;5;241m.\u001b[39mvalue) \u001b[38;5;28;01mfrom\u001b[39;00m \u001b[38;5;28;01mNone\u001b[39;00m\n\u001b[1;32m    356\u001b[0m \u001b[38;5;28;01mreturn\u001b[39;00m obj, end\n",
      "\u001b[0;31mJSONDecodeError\u001b[0m: Expecting value: line 1 column 1 (char 0)",
      "\nDuring handling of the above exception, another exception occurred:\n",
      "\u001b[0;31mJSONDecodeError\u001b[0m                           Traceback (most recent call last)",
      "Cell \u001b[0;32mIn[47], line 28\u001b[0m\n\u001b[1;32m     25\u001b[0m \u001b[38;5;28mprint\u001b[39m(response\u001b[38;5;241m.\u001b[39mtext)         \u001b[38;5;66;03m# Тело ответа\u001b[39;00m\n\u001b[1;32m     27\u001b[0m \u001b[38;5;66;03m# Вывод результата\u001b[39;00m\n\u001b[0;32m---> 28\u001b[0m \u001b[38;5;28mprint\u001b[39m(\u001b[43mresponse\u001b[49m\u001b[38;5;241;43m.\u001b[39;49m\u001b[43mjson\u001b[49m\u001b[43m(\u001b[49m\u001b[43m)\u001b[49m)\n",
      "File \u001b[0;32m/opt/homebrew/lib/python3.11/site-packages/requests/models.py:978\u001b[0m, in \u001b[0;36mResponse.json\u001b[0;34m(self, **kwargs)\u001b[0m\n\u001b[1;32m    974\u001b[0m     \u001b[38;5;28;01mreturn\u001b[39;00m complexjson\u001b[38;5;241m.\u001b[39mloads(\u001b[38;5;28mself\u001b[39m\u001b[38;5;241m.\u001b[39mtext, \u001b[38;5;241m*\u001b[39m\u001b[38;5;241m*\u001b[39mkwargs)\n\u001b[1;32m    975\u001b[0m \u001b[38;5;28;01mexcept\u001b[39;00m JSONDecodeError \u001b[38;5;28;01mas\u001b[39;00m e:\n\u001b[1;32m    976\u001b[0m     \u001b[38;5;66;03m# Catch JSON-related errors and raise as requests.JSONDecodeError\u001b[39;00m\n\u001b[1;32m    977\u001b[0m     \u001b[38;5;66;03m# This aliases json.JSONDecodeError and simplejson.JSONDecodeError\u001b[39;00m\n\u001b[0;32m--> 978\u001b[0m     \u001b[38;5;28;01mraise\u001b[39;00m RequestsJSONDecodeError(e\u001b[38;5;241m.\u001b[39mmsg, e\u001b[38;5;241m.\u001b[39mdoc, e\u001b[38;5;241m.\u001b[39mpos)\n",
      "\u001b[0;31mJSONDecodeError\u001b[0m: Expecting value: line 1 column 1 (char 0)"
     ]
    }
   ],
   "source": [
    "url = \"http://tensorflow-light:8501/v1/models/lighttestmodel:predict\"\n",
    "headers = {\"Content-Type\": \"application/json\"}\n",
    "data = {\n",
    "    \"signature_name\": \"serving_default\",\n",
    "    \"instances\": \n",
    "    [\n",
    "        [\n",
    "            [\n",
    "                [93, 153, 240], \n",
    "                [251, 252, 235]\n",
    "            ], \n",
    "            [\n",
    "                [252, 240, 72], \n",
    "                [218, 90, 185]\n",
    "            ]\n",
    "        ]\n",
    "    ]\n",
    "}\n",
    "response = requests.post(\n",
    "    url, \n",
    "    headers=headers, \n",
    "    data=json.dumps(data)\n",
    "    )\n",
    "print(response.status_code)  # HTTP статус\n",
    "print(response.text)         # Тело ответа\n",
    "\n",
    "# Вывод результата\n",
    "print(response.json())"
   ]
  },
  {
   "cell_type": "code",
   "execution_count": null,
   "metadata": {},
   "outputs": [],
   "source": [
    "requests.post()"
   ]
  },
  {
   "cell_type": "code",
   "execution_count": 26,
   "metadata": {},
   "outputs": [
    {
     "name": "stdout",
     "output_type": "stream",
     "text": [
      "Ответ сервера: {'predictions': [{'detection_classes': [37.0, 55.0, 53.0, 7.0, 10.0, 7.0, 5.0, 37.0, 38.0, 81.0, 52.0, 34.0, 47.0, 1.0, 5.0, 16.0, 7.0, 1.0, 1.0, 1.0, 1.0, 5.0, 1.0, 81.0, 51.0, 28.0, 1.0, 5.0, 16.0, 1.0, 1.0, 7.0, 1.0, 13.0, 64.0, 1.0, 1.0, 84.0, 64.0, 64.0, 1.0, 38.0, 64.0, 1.0, 1.0, 64.0, 55.0, 64.0, 37.0, 1.0, 44.0, 1.0, 64.0, 37.0, 42.0, 65.0, 7.0, 44.0, 42.0, 1.0, 34.0, 1.0, 28.0, 37.0, 34.0, 7.0, 81.0, 62.0, 42.0, 7.0, 81.0, 47.0, 55.0, 42.0, 81.0, 1.0, 1.0, 47.0, 86.0, 1.0, 86.0, 64.0, 47.0, 64.0, 1.0, 1.0, 82.0, 47.0, 65.0, 47.0, 13.0, 47.0, 42.0, 16.0, 42.0, 82.0, 70.0, 44.0, 86.0, 44.0], 'num_detections': 100.0, 'detection_boxes': [[0.980828524, 0.0, 0.994848609, 0.011577501], [0.980828524, 0.0, 0.994848609, 0.011577501], [0.980828524, 0.0, 0.994848609, 0.011577501], [0.055159837, 0.0143443048, 0.936785579, 0.962530613], [0.9681499, 0.0, 0.994444728, 0.0113332318], [0.0636586845, 0.0403662324, 0.959823132, 0.998963058], [0.0367878675, 0.0996755958, 0.924284935, 1.0], [0.00031597726, 0.962603033, 0.0386891812, 1.0], [0.9681499, 0.0, 0.994444728, 0.0113332318], [0.00178650022, 0.00924578309, 0.849985957, 0.967131], [0.977262914, 0.0, 0.996501744, 0.0390347764], [0.978654385, 0.00149359088, 0.995458603, 0.0190861523], [0.976949275, 0.979052365, 0.999996, 0.996687233], [0.193388611, 0.974276543, 0.377350539, 1.0], [0.00479921699, 0.0097860992, 0.862277627, 0.966680646], [0.0565040112, 0.96312958, 0.232883215, 0.999537766], [0.00479921699, 0.0097860992, 0.862277627, 0.966680646], [0.239278406, 0.974134684, 0.425194651, 1.0], [0.255016446, 0.974128962, 0.440669775, 1.0], [0.288138568, 0.974162519, 0.470080256, 1.0], [0.271274388, 0.974124908, 0.455670893, 1.0], [0.0, 0.0371126533, 0.885272, 1.0], [0.739580452, 0.974939167, 0.893567741, 1.0], [0.0, 0.00192072988, 0.748004436, 0.959317327], [0.976949275, 0.979052365, 0.999996, 0.996687233], [0.963219345, 0.0, 0.999883354, 0.0926876068], [0.370614111, 0.974614739, 0.543781281, 0.999664664], [0.0336304, 0.0119405091, 0.912002802, 0.964807868], [0.980828524, 0.0, 0.994848609, 0.011577501], [0.597904801, 0.975008368, 0.769785881, 0.999821544], [0.582787395, 0.974954605, 0.753586292, 0.999778271], [0.000885874033, 0.0293684, 0.866351, 0.99438], [0.543611884, 0.974915147, 0.714608073, 0.99966383], [0.116544731, 0.975019515, 0.266822517, 0.999415], [0.481563061, 0.0, 1.0, 0.258549899], [0.434485167, 0.974899411, 0.60501188, 0.999596596], [0.826226711, 0.974353254, 0.978571177, 1.0], [0.976949275, 0.979052365, 0.999996, 0.996687233], [0.980828524, 0.0, 0.994848609, 0.011577501], [0.376337111, 0.0, 1.0, 0.258421034], [0.055159837, 0.0143443048, 0.936785579, 0.962530613], [0.967481315, 0.0, 0.997040451, 0.0404659584], [0.375343382, 0.00310155749, 1.0, 0.301534891], [0.9681499, 0.0, 0.994444728, 0.0113332318], [0.847655594, 0.974593163, 0.988233507, 1.0], [0.468818158, 0.000765219331, 1.0, 0.304201663], [0.963219345, 0.0, 0.999883354, 0.0926876068], [0.423066437, 0.00279802084, 1.0, 0.301912785], [0.000794758089, 0.903988183, 0.0217823423, 0.979169309], [0.046661377, 0.0304966569, 0.929756939, 0.993429601], [0.980828524, 0.0, 0.994848609, 0.011577501], [0.904705942, 0.97752142, 1.0, 0.996911049], [0.976142585, 0.0, 0.997065604, 0.0555462167], [0.976949275, 0.979052365, 0.999996, 0.996687233], [0.00178650022, 0.00924578309, 0.849985957, 0.967131], [0.00479921699, 0.0097860992, 0.862277627, 0.966680646], [0.0, 0.077496171, 0.871368885, 1.0], [0.976949275, 0.979052365, 0.999996, 0.996687233], [0.0425613225, 0.0122686923, 0.918536782, 0.964502573], [0.00479921699, 0.0097860992, 0.862277627, 0.966680646], [0.976949275, 0.979052365, 0.999996, 0.996687233], [0.000885874033, 0.0293684, 0.866351, 0.99438], [0.00031597726, 0.962603033, 0.0386891812, 1.0], [0.0008147927, 0.872158825, 0.0209751986, 0.948861778], [0.000437799841, 0.964287281, 0.0231720582, 0.999499083], [0.068205446, 0.0, 0.923774242, 0.907623649], [0.0, 0.100229204, 0.859704792, 1.0], [0.978654385, 0.00149359088, 0.995458603, 0.0190861523], [0.0396451652, 0.0297617018, 0.921555638, 0.994128], [0.0557307303, 0.0, 0.905253053, 0.908174515], [0.0, 0.0613749623, 0.858790636, 1.0], [0.502040625, 0.974996448, 0.662492752, 0.99940908], [0.882288396, 0.0, 1.0, 0.0401878692], [0.000386659056, 0.37187466, 0.0211223811, 0.51051], [0.00973883271, 0.0, 0.827160835, 0.880910695], [0.174557894, 0.0, 0.958260536, 0.623303652], [0.152682751, 0.0113743544, 0.995781898, 0.949940085], [0.461753547, 0.974997282, 0.624685466, 0.999467492], [0.543611884, 0.974915147, 0.714608073, 0.99966383], [0.0275680423, 0.0996883214, 0.918092489, 1.0], [0.567218304, 0.974954307, 0.737944722, 0.999698579], [0.774853945, 0.0, 0.998164892, 0.0553499348], [0.575193644, 0.974944651, 0.745570779, 0.999739], [0.905827403, 0.0, 1.0, 0.0569058098], [0.0, 0.077496171, 0.871368885, 1.0], [0.976949275, 0.979052365, 0.999996, 0.996687233], [0.0, 0.100229204, 0.859704792, 1.0], [0.543611884, 0.974915147, 0.714608073, 0.99966383], [0.0, 0.077496171, 0.871368885, 1.0], [0.605353892, 0.974988222, 0.777907431, 0.999864817], [0.0, 0.977941751, 0.0408209115, 0.997786641], [0.37891984, 0.974640071, 0.551050305, 0.999661624], [0.0370829701, 0.0771205127, 0.924012, 1.0], [0.967481315, 0.0, 0.997040451, 0.0404659584], [0.0367276371, 0.0609502494, 0.924430728, 1.0], [0.00178650022, 0.00924578309, 0.849985957, 0.967131], [0.976949275, 0.979052365, 0.999996, 0.996687233], [0.904705942, 0.97752142, 1.0, 0.996911049], [0.976949275, 0.979052365, 0.999996, 0.996687233], [0.502040625, 0.974996448, 0.662492752, 0.99940908]], 'detection_scores': [0.0424694978, 0.0214437954, 0.0145930378, 0.011720635, 0.0110494988, 0.0107954927, 0.00914052594, 0.00853378698, 0.0084952563, 0.0083534494, 0.00833689142, 0.0081121549, 0.00793246552, 0.00760925096, 0.00757573498, 0.00750441337, 0.00747830514, 0.00732896896, 0.00728507433, 0.00723791542, 0.00721031846, 0.00706380233, 0.00699455384, 0.0069438708, 0.00692470884, 0.00681440858, 0.00680878, 0.00677108299, 0.00669998117, 0.00658365, 0.00658223126, 0.00650649285, 0.00649476564, 0.00632049609, 0.00610849587, 0.00608922215, 0.00606616121, 0.00605466, 0.0059253, 0.00592463464, 0.00583922071, 0.00577930082, 0.00576852122, 0.00572239468, 0.00571970921, 0.0056298268, 0.00562497275, 0.00558057334, 0.00553309917, 0.00552050909, 0.0055130939, 0.00548551371, 0.00545607693, 0.00542784622, 0.00532160047, 0.00529920449, 0.00529058231, 0.00527630514, 0.0052686152, 0.005215046, 0.00515840156, 0.00503698038, 0.00502644479, 0.00498947175, 0.00491207838, 0.00490701618, 0.00489540445, 0.00488361111, 0.00486751, 0.00485062273, 0.00483398652, 0.00480460515, 0.0047981306, 0.00479620881, 0.00478897477, 0.00477148453, 0.00476723071, 0.00475230673, 0.00474623591, 0.00470241858, 0.00468319189, 0.00464416342, 0.00461323839, 0.00459718332, 0.00459502311, 0.00457502762, 0.00457335357, 0.00457151514, 0.00453040237, 0.00452114409, 0.00450572465, 0.00449383771, 0.00443864288, 0.00442891847, 0.0044058091, 0.00440564146, 0.00439855037, 0.00438883621, 0.00431742147, 0.00430057338]}]}\n"
     ]
    }
   ],
   "source": [
    "import requests\n",
    "\n",
    "# URL для запроса\n",
    "url = \"http://localhost:8501/v1/models/lighttestmodel:predict\"\n",
    "\n",
    "# Заголовки\n",
    "headers = {\n",
    "    \"Content-Type\": \"application/json\",\n",
    "}\n",
    "\n",
    "# Тело запроса\n",
    "data = {\n",
    "    \"instances\": [\n",
    "        [\n",
    "            [\n",
    "                [93, 153, 240],\n",
    "                [251, 252, 235]\n",
    "            ],\n",
    "            [\n",
    "                [252, 240, 72],\n",
    "                [218, 90, 185]\n",
    "            ]\n",
    "        ]\n",
    "    ]\n",
    "}\n",
    "\n",
    "# Отправка POST-запроса\n",
    "try:\n",
    "    response = requests.post(url, headers=headers, json=data, timeout=60)\n",
    "    response.raise_for_status()  # Проверка на HTTP-ошибки\n",
    "    print(\"Ответ сервера:\", response.json())\n",
    "except requests.exceptions.RequestException as e:\n",
    "    print(\"Ошибка запроса:\", e)"
   ]
  },
  {
   "cell_type": "code",
   "execution_count": 50,
   "metadata": {},
   "outputs": [
    {
     "name": "stdout",
     "output_type": "stream",
     "text": [
      "{\n",
      "    \"error\": \"JSON Parse error: Missing a name for object member. at offset: 1\"\n",
      "}"
     ]
    },
    {
     "name": "stderr",
     "output_type": "stream",
     "text": [
      "Note: Unnecessary use of -X or --request, POST is already inferred.\n",
      "  % Total    % Received % Xferd  Average Speed   Time    Time     Time  Current\n",
      "                                 Dload  Upload   Total   Spent    Left  Speed\n",
      "  0     0    0     0    0     0      0      0 --:--:-- --:--:-- --:--:--     0*   Trying 127.0.0.1:8501...\n",
      "* Connected to localhost (127.0.0.1) port 8501 (#0)\n",
      "> POST /v1/models/lighttestmodel:predict HTTP/1.1\n",
      "> Host: localhost:8501\n",
      "> User-Agent: curl/8.1.2\n",
      "> Accept: */*\n",
      "> Content-Type: application/json\n",
      "> Content-Length: 84\n",
      "> \n",
      "} [84 bytes data]\n",
      "< HTTP/1.1 400 Bad Request\n",
      "< Content-Type: application/json\n",
      "< Date: Thu, 28 Nov 2024 19:29:06 GMT\n",
      "< Content-Length: 83\n",
      "< \n",
      "{ [83 bytes data]\n",
      "100   167  100    83  100    84   4822   4880 --:--:-- --:--:-- --:--:-- 12846\n",
      "* Connection #0 to host localhost left intact\n"
     ]
    },
    {
     "data": {
      "text/plain": [
       "0"
      ]
     },
     "execution_count": 50,
     "metadata": {},
     "output_type": "execute_result"
    }
   ],
   "source": [
    "os.system('curl -v -X POST http://localhost:8501/v1/models/lighttestmodel:predict -H \"Content-Type: application/json\" -d \"{\"instances\": [[[[93, 153, 240], [251, 252, 235]], [[252, 240, 72], [218, 90, 185]]]]}\" --max-time 60')"
   ]
  },
  {
   "cell_type": "code",
   "execution_count": 27,
   "metadata": {},
   "outputs": [
    {
     "name": "stdout",
     "output_type": "stream",
     "text": [
      "Ответ сервера: {'model_version_status': [{'version': '1', 'state': 'AVAILABLE', 'status': {'error_code': 'OK', 'error_message': ''}}]}\n"
     ]
    }
   ],
   "source": [
    "url = \"http://localhost:8501/v1/models/lighttestmodel\"\n",
    "\n",
    "# Отправка GET-запроса\n",
    "try:\n",
    "    response = requests.get(url, timeout=60)  # Тайм-аут 60 секунд\n",
    "    response.raise_for_status()  # Проверка на HTTP-ошибки\n",
    "    print(\"Ответ сервера:\", response.json())\n",
    "except requests.exceptions.RequestException as e:\n",
    "    print(\"Ошибка запроса:\", e)"
   ]
  },
  {
   "cell_type": "code",
   "execution_count": 3,
   "metadata": {},
   "outputs": [
    {
     "name": "stderr",
     "output_type": "stream",
     "text": [
      "  % Total    % Received % Xferd  Average Speed   Time    Time     Time  Current\n",
      "                                 Dload  Upload   Total   Spent    Left  Speed\n",
      "  0     0    0     0    0     0      0      0 --:--:-- --:--:-- --:--:--     0"
     ]
    },
    {
     "name": "stdout",
     "output_type": "stream",
     "text": [
      "{\n",
      " \"model_version_status\": [\n",
      "  {\n",
      "   \"version\": \"1\",\n",
      "   \"state\": \"AVAILABLE\",\n",
      "   \"status\": {\n",
      "    \"error_code\": \"OK\",\n",
      "    \"error_message\": \"\"\n",
      "   }\n",
      "  }\n",
      " ]\n",
      "}\n"
     ]
    },
    {
     "name": "stderr",
     "output_type": "stream",
     "text": [
      "curl: (6) Could not resolve host: GET\n",
      "  % Total    % Received % Xferd  Average Speed   Time    Time     Time  Current\n",
      "                                 Dload  Upload   Total   Spent    Left  Speed\n",
      "100   154  100   154    0     0   3582      0 --:--:-- --:--:-- --:--:--  3666\n"
     ]
    },
    {
     "data": {
      "text/plain": [
       "0"
      ]
     },
     "execution_count": 3,
     "metadata": {},
     "output_type": "execute_result"
    }
   ],
   "source": [
    "os.system(\"curl GET http://localhost:8501/v1/models/lighttestmodel\")"
   ]
  },
  {
   "cell_type": "code",
   "execution_count": 19,
   "metadata": {},
   "outputs": [
    {
     "name": "stdout",
     "output_type": "stream",
     "text": [
      "Ошибка запроса: ('Connection aborted.', RemoteDisconnected('Remote end closed connection without response'))\n"
     ]
    }
   ],
   "source": [
    "import requests\n",
    "\n",
    "# URL для запроса\n",
    "url = \"http://localhost:8503/v1/models/heavytestmodel:predict\"\n",
    "\n",
    "# Заголовки\n",
    "headers = {\n",
    "    \"Content-Type\": \"application/json\",\n",
    "}\n",
    "\n",
    "# Тело запроса\n",
    "data = {\n",
    "    \"instances\": [\n",
    "        [\n",
    "            [\n",
    "                [93, 153, 240],\n",
    "                [251, 252, 235]\n",
    "            ],\n",
    "            [\n",
    "                [252, 240, 72],\n",
    "                [218, 90, 185]\n",
    "            ]\n",
    "        ]\n",
    "    ]\n",
    "}\n",
    "\n",
    "# Отправка POST-запроса\n",
    "try:\n",
    "    response = requests.post(url, headers=headers, json=data, timeout=60)\n",
    "    response.raise_for_status()  # Проверка на HTTP-ошибки\n",
    "    print(\"Ответ сервера:\", response.json())\n",
    "except requests.exceptions.RequestException as e:\n",
    "    print(\"Ошибка запроса:\", e)"
   ]
  }
 ],
 "metadata": {
  "kernelspec": {
   "display_name": "Python 3",
   "language": "python",
   "name": "python3"
  },
  "language_info": {
   "codemirror_mode": {
    "name": "ipython",
    "version": 3
   },
   "file_extension": ".py",
   "mimetype": "text/x-python",
   "name": "python",
   "nbconvert_exporter": "python",
   "pygments_lexer": "ipython3",
   "version": "3.11.10"
  }
 },
 "nbformat": 4,
 "nbformat_minor": 2
}
